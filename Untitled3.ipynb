{
  "nbformat": 4,
  "nbformat_minor": 0,
  "metadata": {
    "colab": {
      "provenance": [],
      "authorship_tag": "ABX9TyN224w05avRjCpe9oC8QheT",
      "include_colab_link": true
    },
    "kernelspec": {
      "name": "python3",
      "display_name": "Python 3"
    },
    "language_info": {
      "name": "python"
    }
  },
  "cells": [
    {
      "cell_type": "markdown",
      "metadata": {
        "id": "view-in-github",
        "colab_type": "text"
      },
      "source": [
        "<a href=\"https://colab.research.google.com/github/user22-23/exam/blob/main/Untitled3.ipynb\" target=\"_parent\"><img src=\"https://colab.research.google.com/assets/colab-badge.svg\" alt=\"Open In Colab\"/></a>"
      ]
    },
    {
      "cell_type": "code",
      "execution_count": 1,
      "metadata": {
        "colab": {
          "base_uri": "https://localhost:8080/"
        },
        "id": "lt6jD0xsGkDy",
        "outputId": "46b40457-8927-46b8-c703-00f4f4f76e8d"
      },
      "outputs": [
        {
          "output_type": "stream",
          "name": "stdout",
          "text": [
            "   day  steps\n",
            "0    1   4335\n",
            "1    2   9552\n",
            "2    3   7332\n",
            "3    4   4504\n",
            "4    5   5335\n",
            "5    6   7552\n",
            "6    7   8332\n",
            "7    8   6504\n",
            "8    9   8965\n",
            "9   10   7689\n"
          ]
        }
      ],
      "source": [
        "import pandas as pd\n",
        "arr={'day':[1,2,3,4,5,6,7,8,9,10],\n",
        "      'steps':[4335,9552,7332,4504,5335,7552,8332,6504,8965,7689]}\n",
        "df=pd.DataFrame(arr)\n",
        "print(df)"
      ]
    },
    {
      "cell_type": "code",
      "source": [
        "data=df['steps']+1000\n",
        "print(data)"
      ],
      "metadata": {
        "colab": {
          "base_uri": "https://localhost:8080/"
        },
        "id": "m48qKATvHVEk",
        "outputId": "00fef630-7c6f-4b71-b9aa-b4dc57a6556d"
      },
      "execution_count": 2,
      "outputs": [
        {
          "output_type": "stream",
          "name": "stdout",
          "text": [
            "0     5335\n",
            "1    10552\n",
            "2     8332\n",
            "3     5504\n",
            "4     6335\n",
            "5     8552\n",
            "6     9332\n",
            "7     7504\n",
            "8     9965\n",
            "9     8689\n",
            "Name: steps, dtype: int64\n"
          ]
        }
      ]
    },
    {
      "cell_type": "code",
      "source": [
        "match=df.loc[df['steps']>7000]\n",
        "print(match)"
      ],
      "metadata": {
        "colab": {
          "base_uri": "https://localhost:8080/"
        },
        "id": "Qb_9ILDIHd6y",
        "outputId": "61840122-9eb5-440f-ce64-2bc308c8094f"
      },
      "execution_count": 3,
      "outputs": [
        {
          "output_type": "stream",
          "name": "stdout",
          "text": [
            "   day  steps\n",
            "1    2   9552\n",
            "2    3   7332\n",
            "5    6   7552\n",
            "6    7   8332\n",
            "8    9   8965\n",
            "9   10   7689\n"
          ]
        }
      ]
    }
  ]
}